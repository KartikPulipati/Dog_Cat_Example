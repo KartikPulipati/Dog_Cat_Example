{
 "nbformat": 4,
 "nbformat_minor": 0,
 "metadata": {
  "colab": {
   "name": "normal",
   "provenance": []
  },
  "kernelspec": {
   "name": "python3",
   "display_name": "Python 3"
  },
  "language_info": {
   "name": "python"
  },
  "accelerator": "GPU",
  "gpuClass": "standard"
 },
 "cells": [
  {
   "cell_type": "code",
   "execution_count": 1,
   "metadata": {
    "id": "HFZnN-F_PWs5",
    "pycharm": {
     "name": "#%%\n"
    }
   },
   "outputs": [],
   "source": [
    "import torch\n",
    "import torch.nn as nn\n",
    "from torch.utils.data import DataLoader\n",
    "from torchvision import datasets, transforms, models\n",
    "\n",
    "import os\n",
    "import matplotlib.pyplot as plt\n",
    "import warnings\n",
    "import time\n",
    "\n",
    "warnings.filterwarnings(\"ignore\")\n",
    "%matplotlib inline"
   ]
  },
  {
   "cell_type": "code",
   "source": [
    "train_path = '../data/CATS_DOGS_black_box_single'\n",
    "test_path = '../../normal/CATS_DOGS'"
   ],
   "metadata": {
    "colab": {
     "base_uri": "https://localhost:8080/"
    },
    "id": "pqphekYCQmxE",
    "outputId": "552cc1fc-1682-4c10-e4ac-179e1991f4fe",
    "pycharm": {
     "name": "#%%\n"
    }
   },
   "execution_count": 2,
   "outputs": []
  },
  {
   "cell_type": "code",
   "source": [
    "train_transform = transforms.Compose([\n",
    "        transforms.RandomRotation(10),      \n",
    "        transforms.RandomHorizontalFlip(),\n",
    "        transforms.Resize(224),             \n",
    "        transforms.CenterCrop(224),\n",
    "        transforms.ToTensor(),\n",
    "        transforms.Normalize([0.485, 0.456, 0.406],\n",
    "                             [0.229, 0.224, 0.225])\n",
    "    ])\n",
    "\n",
    "test_transform = transforms.Compose([\n",
    "        transforms.Resize(224),\n",
    "        transforms.CenterCrop(224),\n",
    "        transforms.ToTensor(),\n",
    "        transforms.Normalize([0.485, 0.456, 0.406],\n",
    "                             [0.229, 0.224, 0.225])\n",
    "    ])"
   ],
   "metadata": {
    "id": "sFIJ3CyrQ4xb",
    "pycharm": {
     "name": "#%%\n"
    }
   },
   "execution_count": 3,
   "outputs": []
  },
  {
   "cell_type": "code",
   "source": [
    "train_data = datasets.ImageFolder(os.path.join(train_path, 'train'), transform=train_transform)\n",
    "test_data = datasets.ImageFolder(os.path.join(test_path, 'test'), transform=test_transform)\n",
    "\n",
    "torch.manual_seed(42)\n",
    "train_loader = DataLoader(train_data, batch_size=10, shuffle=True)\n",
    "test_loader = DataLoader(test_data, batch_size=10, shuffle=True)\n",
    "\n",
    "class_names = train_data.classes\n",
    "\n",
    "print(class_names)\n",
    "print(f'Training images available: {len(train_data)}')\n",
    "print(f'Testing images available:  {len(test_data)}')"
   ],
   "metadata": {
    "colab": {
     "base_uri": "https://localhost:8080/"
    },
    "id": "W6yGAv0fbmyu",
    "outputId": "c2de829f-2a63-4d7d-80c9-0528deaf2415",
    "pycharm": {
     "name": "#%%\n"
    }
   },
   "execution_count": 4,
   "outputs": [
    {
     "name": "stdout",
     "output_type": "stream",
     "text": [
      "['CAT', 'DOG']\n",
      "Training images available: 18711\n",
      "Testing images available:  6251\n"
     ]
    }
   ]
  },
  {
   "cell_type": "code",
   "execution_count": 5,
   "outputs": [
    {
     "data": {
      "text/plain": "AlexNet(\n  (features): Sequential(\n    (0): Conv2d(3, 64, kernel_size=(11, 11), stride=(4, 4), padding=(2, 2))\n    (1): ReLU(inplace=True)\n    (2): MaxPool2d(kernel_size=3, stride=2, padding=0, dilation=1, ceil_mode=False)\n    (3): Conv2d(64, 192, kernel_size=(5, 5), stride=(1, 1), padding=(2, 2))\n    (4): ReLU(inplace=True)\n    (5): MaxPool2d(kernel_size=3, stride=2, padding=0, dilation=1, ceil_mode=False)\n    (6): Conv2d(192, 384, kernel_size=(3, 3), stride=(1, 1), padding=(1, 1))\n    (7): ReLU(inplace=True)\n    (8): Conv2d(384, 256, kernel_size=(3, 3), stride=(1, 1), padding=(1, 1))\n    (9): ReLU(inplace=True)\n    (10): Conv2d(256, 256, kernel_size=(3, 3), stride=(1, 1), padding=(1, 1))\n    (11): ReLU(inplace=True)\n    (12): MaxPool2d(kernel_size=3, stride=2, padding=0, dilation=1, ceil_mode=False)\n  )\n  (avgpool): AdaptiveAvgPool2d(output_size=(6, 6))\n  (classifier): Sequential(\n    (0): Dropout(p=0.5, inplace=False)\n    (1): Linear(in_features=9216, out_features=4096, bias=True)\n    (2): ReLU(inplace=True)\n    (3): Dropout(p=0.5, inplace=False)\n    (4): Linear(in_features=4096, out_features=4096, bias=True)\n    (5): ReLU(inplace=True)\n    (6): Linear(in_features=4096, out_features=1000, bias=True)\n  )\n)"
     },
     "execution_count": 5,
     "metadata": {},
     "output_type": "execute_result"
    }
   ],
   "source": [
    "model = models.alexnet()\n",
    "model.to('cpu')"
   ],
   "metadata": {
    "collapsed": false,
    "pycharm": {
     "name": "#%%\n"
    }
   }
  },
  {
   "cell_type": "code",
   "source": [
    "criterion = nn.CrossEntropyLoss()\n",
    "optimizer = torch.optim.SGD(model.parameters(), lr=0.01)"
   ],
   "metadata": {
    "colab": {
     "base_uri": "https://localhost:8080/"
    },
    "id": "PaNnY1c9ZYfL",
    "outputId": "caac0a8a-1814-4076-92a0-a11e62e5d92e",
    "pycharm": {
     "name": "#%%\n"
    }
   },
   "execution_count": 6,
   "outputs": []
  },
  {
   "cell_type": "code",
   "source": [
    "def count_parameters(model):\n",
    "    params = [p.numel() for p in model.parameters() if p.requires_grad]\n",
    "    for item in params:\n",
    "        print(f'{item:>8}')\n",
    "    print(f'________\\n{sum(params):>8}')\n",
    "\n",
    "count_parameters(model)"
   ],
   "metadata": {
    "colab": {
     "base_uri": "https://localhost:8080/"
    },
    "id": "Yz5E9M2hZcqq",
    "outputId": "57fc0ea2-a738-4084-b60d-5f8c6d9c5f64",
    "pycharm": {
     "name": "#%%\n"
    }
   },
   "execution_count": 7,
   "outputs": [
    {
     "name": "stdout",
     "output_type": "stream",
     "text": [
      "   23232\n",
      "      64\n",
      "  307200\n",
      "     192\n",
      "  663552\n",
      "     384\n",
      "  884736\n",
      "     256\n",
      "  589824\n",
      "     256\n",
      "37748736\n",
      "    4096\n",
      "16777216\n",
      "    4096\n",
      " 4096000\n",
      "    1000\n",
      "________\n",
      "61100840\n"
     ]
    }
   ]
  },
  {
   "cell_type": "code",
   "source": [
    "import time\n",
    "start_time = time.time()\n",
    "\n",
    "epochs = 3\n",
    "\n",
    "max_trn_batch = 800\n",
    "max_tst_batch = 300\n",
    "\n",
    "train_losses = []\n",
    "test_losses = []\n",
    "train_correct = []\n",
    "test_correct = []\n",
    "\n",
    "for i in range(epochs):\n",
    "    trn_corr = 0\n",
    "    tst_corr = 0\n",
    "    \n",
    "    # Run the training batches\n",
    "    for b, (X_train, y_train) in enumerate(train_loader):\n",
    "        \n",
    "        if b == max_trn_batch:\n",
    "            break\n",
    "        b+=1\n",
    "        \n",
    "        y_pred = model(X_train)\n",
    "        loss = criterion(y_pred, y_train)\n",
    " \n",
    "        predicted = torch.max(y_pred.data, 1)[1]\n",
    "        batch_corr = (predicted == y_train).sum()\n",
    "        trn_corr += batch_corr\n",
    "        \n",
    "        optimizer.zero_grad()\n",
    "        loss.backward()\n",
    "        optimizer.step()\n",
    "\n",
    "        if b%200 == 0:\n",
    "            print(f'epoch: {i:2}  batch: {b:4} [{10*b:6}/8000]  loss: {loss.item():10.8f}  \\\n",
    "accuracy: {trn_corr.item()*100/(10*b):7.3f}%')\n",
    "\n",
    "    train_losses.append(loss)\n",
    "    train_correct.append(trn_corr)\n",
    "\n",
    "    with torch.no_grad():\n",
    "        for b, (X_test, y_test) in enumerate(test_loader):\n",
    "            if b == max_tst_batch:\n",
    "                break\n",
    "\n",
    "            y_val = model(X_test)\n",
    "\n",
    "            predicted = torch.max(y_val.data, 1)[1] \n",
    "            tst_corr += (predicted == y_test).sum()\n",
    "\n",
    "    loss = criterion(y_val, y_test)\n",
    "    test_losses.append(loss)\n",
    "    test_correct.append(tst_corr)\n",
    "\n",
    "print(f'\\nDuration: {time.time() - start_time:.0f} seconds')"
   ],
   "metadata": {
    "id": "Z7LGsakWZ_LN",
    "pycharm": {
     "name": "#%%\n"
    }
   },
   "execution_count": 8,
   "outputs": [
    {
     "name": "stdout",
     "output_type": "stream",
     "text": [
      "epoch:  0  batch:  200 [  2000/8000]  loss: 0.61991149  accuracy:  49.050%\n",
      "epoch:  0  batch:  400 [  4000/8000]  loss: 0.60277331  accuracy:  49.225%\n",
      "epoch:  0  batch:  600 [  6000/8000]  loss: 0.70061231  accuracy:  50.067%\n",
      "epoch:  0  batch:  800 [  8000/8000]  loss: 0.69506460  accuracy:  50.188%\n",
      "epoch:  1  batch:  200 [  2000/8000]  loss: 0.60615504  accuracy:  50.900%\n",
      "epoch:  1  batch:  400 [  4000/8000]  loss: 0.69605839  accuracy:  50.875%\n",
      "epoch:  1  batch:  600 [  6000/8000]  loss: 0.74221557  accuracy:  50.333%\n",
      "epoch:  1  batch:  800 [  8000/8000]  loss: 0.67781341  accuracy:  50.562%\n",
      "epoch:  2  batch:  200 [  2000/8000]  loss: 0.51915801  accuracy:  50.550%\n",
      "epoch:  2  batch:  400 [  4000/8000]  loss: 0.69640911  accuracy:  51.125%\n",
      "epoch:  2  batch:  600 [  6000/8000]  loss: 0.74233246  accuracy:  51.300%\n",
      "epoch:  2  batch:  800 [  8000/8000]  loss: 0.71050310  accuracy:  51.712%\n",
      "\n",
      "Duration: 1110 seconds\n"
     ]
    }
   ]
  },
  {
   "cell_type": "code",
   "source": [
    "plt.plot([t/80 for t in train_correct], label='training accuracy')\n",
    "plt.plot([t/30 for t in test_correct], label='validation accuracy')\n",
    "plt.title('Accuracy at the end of each epoch')\n",
    "plt.legend();"
   ],
   "metadata": {
    "id": "I2OyfnBDavWB",
    "pycharm": {
     "name": "#%%\n"
    }
   },
   "execution_count": 9,
   "outputs": [
    {
     "data": {
      "text/plain": "<Figure size 640x480 with 1 Axes>",
      "image/png": "[encoded data removed]"
     },
     "metadata": {},
     "output_type": "display_data"
    }
   ]
  },
  {
   "cell_type": "code",
   "source": [
    "print(test_correct)\n",
    "print(f'Test accuracy: {test_correct[-1].item()*100/3000:.3f}%')"
   ],
   "metadata": {
    "id": "nupHdKSXaxZi",
    "pycharm": {
     "name": "#%%\n"
    }
   },
   "execution_count": 10,
   "outputs": [
    {
     "name": "stdout",
     "output_type": "stream",
     "text": [
      "[tensor(1523), tensor(1472), tensor(1641)]\n",
      "Test accuracy: 54.700%\n"
     ]
    }
   ]
  }
 ]
}