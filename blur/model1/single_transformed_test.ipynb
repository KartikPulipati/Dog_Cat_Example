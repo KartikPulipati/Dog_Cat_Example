{
 "nbformat": 4,
 "nbformat_minor": 0,
 "metadata": {
  "colab": {
   "name": "normal",
   "provenance": []
  },
  "kernelspec": {
   "name": "python3",
   "display_name": "Python 3"
  },
  "language_info": {
   "name": "python"
  },
  "accelerator": "GPU",
  "gpuClass": "standard"
 },
 "cells": [
  {
   "cell_type": "code",
   "execution_count": 1,
   "metadata": {
    "id": "HFZnN-F_PWs5",
    "pycharm": {
     "name": "#%%\n"
    }
   },
   "outputs": [],
   "source": [
    "import torch\n",
    "import torch.nn as nn\n",
    "import torch.nn.functional as F\n",
    "from torch.utils.data import DataLoader\n",
    "from torchvision import datasets, transforms, models # add models to the list\n",
    "from torchvision.utils import make_grid\n",
    "import os\n",
    "import numpy as np\n",
    "import pandas as pd\n",
    "import matplotlib.pyplot as plt\n",
    "import warnings\n",
    "\n",
    "warnings.filterwarnings(\"ignore\")\n",
    "%matplotlib inline"
   ]
  },
  {
   "cell_type": "code",
   "source": [
    "path = '../data/CATS_DOGS_blur_single'"
   ],
   "metadata": {
    "colab": {
     "base_uri": "https://localhost:8080/"
    },
    "id": "pqphekYCQmxE",
    "outputId": "552cc1fc-1682-4c10-e4ac-179e1991f4fe",
    "pycharm": {
     "name": "#%%\n"
    }
   },
   "execution_count": 2,
   "outputs": []
  },
  {
   "cell_type": "code",
   "source": [
    "train_transform = transforms.Compose([\n",
    "        transforms.RandomRotation(10),      \n",
    "        transforms.RandomHorizontalFlip(),  \n",
    "        transforms.Resize(224),             \n",
    "        transforms.CenterCrop(224),\n",
    "        transforms.ToTensor(),\n",
    "        transforms.Normalize([0.485, 0.456, 0.406],\n",
    "                             [0.229, 0.224, 0.225])\n",
    "    ])\n",
    "\n",
    "test_transform = transforms.Compose([\n",
    "        transforms.Resize(224),\n",
    "        transforms.CenterCrop(224),\n",
    "        transforms.ToTensor(),\n",
    "        transforms.Normalize([0.485, 0.456, 0.406],\n",
    "                             [0.229, 0.224, 0.225])\n",
    "    ])"
   ],
   "metadata": {
    "id": "sFIJ3CyrQ4xb",
    "pycharm": {
     "name": "#%%\n"
    }
   },
   "execution_count": 3,
   "outputs": []
  },
  {
   "cell_type": "code",
   "source": [
    "train_data = datasets.ImageFolder(os.path.join(path, 'train'), transform=train_transform)\n",
    "test_data = datasets.ImageFolder(os.path.join(path, 'test'), transform=test_transform)\n",
    "\n",
    "torch.manual_seed(42)\n",
    "train_loader = DataLoader(train_data, batch_size=10, shuffle=True)\n",
    "test_loader = DataLoader(test_data, batch_size=10, shuffle=True)\n",
    "\n",
    "class_names = train_data.classes\n",
    "\n",
    "print(class_names)\n",
    "print(f'Training images available: {len(train_data)}')\n",
    "print(f'Testing images available:  {len(test_data)}')"
   ],
   "metadata": {
    "colab": {
     "base_uri": "https://localhost:8080/"
    },
    "id": "W6yGAv0fbmyu",
    "outputId": "c2de829f-2a63-4d7d-80c9-0528deaf2415",
    "pycharm": {
     "name": "#%%\n"
    }
   },
   "execution_count": 4,
   "outputs": [
    {
     "name": "stdout",
     "output_type": "stream",
     "text": [
      "['CAT', 'DOG']\n",
      "Training images available: 18711\n",
      "Testing images available:  6233\n"
     ]
    }
   ]
  },
  {
   "cell_type": "code",
   "source": [
    "class ConvolutionalNetwork(nn.Module):\n",
    "    def __init__(self):\n",
    "        super().__init__()\n",
    "        self.conv1 = nn.Conv2d(3, 6, 3, 1)\n",
    "        self.conv2 = nn.Conv2d(6, 16, 3, 1)\n",
    "        self.fc1 = nn.Linear(54*54*16, 120)\n",
    "        self.fc2 = nn.Linear(120, 84)\n",
    "        self.fc3 = nn.Linear(84, 2)\n",
    "\n",
    "    def forward(self, X):\n",
    "        X = F.relu(self.conv1(X))\n",
    "        X = F.max_pool2d(X, 2, 2)\n",
    "        X = F.relu(self.conv2(X))\n",
    "        X = F.max_pool2d(X, 2, 2)\n",
    "        X = X.view(-1, 54*54*16)\n",
    "        X = F.relu(self.fc1(X))\n",
    "        X = F.relu(self.fc2(X))\n",
    "        X = self.fc3(X)\n",
    "        return F.log_softmax(X, dim=1)"
   ],
   "metadata": {
    "id": "GViKJjxiSo9u",
    "pycharm": {
     "name": "#%%\n"
    }
   },
   "execution_count": 5,
   "outputs": []
  },
  {
   "cell_type": "code",
   "source": [
    "torch.manual_seed(101)\n",
    "CNNmodel = ConvolutionalNetwork()\n",
    "criterion = nn.CrossEntropyLoss()\n",
    "optimizer = torch.optim.Adam(CNNmodel.parameters(), lr=0.001)\n",
    "CNNmodel"
   ],
   "metadata": {
    "colab": {
     "base_uri": "https://localhost:8080/"
    },
    "id": "PaNnY1c9ZYfL",
    "outputId": "caac0a8a-1814-4076-92a0-a11e62e5d92e",
    "pycharm": {
     "name": "#%%\n"
    }
   },
   "execution_count": 6,
   "outputs": [
    {
     "data": {
      "text/plain": "ConvolutionalNetwork(\n  (conv1): Conv2d(3, 6, kernel_size=(3, 3), stride=(1, 1))\n  (conv2): Conv2d(6, 16, kernel_size=(3, 3), stride=(1, 1))\n  (fc1): Linear(in_features=46656, out_features=120, bias=True)\n  (fc2): Linear(in_features=120, out_features=84, bias=True)\n  (fc3): Linear(in_features=84, out_features=2, bias=True)\n)"
     },
     "execution_count": 6,
     "metadata": {},
     "output_type": "execute_result"
    }
   ]
  },
  {
   "cell_type": "code",
   "source": [
    "def count_parameters(model):\n",
    "    params = [p.numel() for p in model.parameters() if p.requires_grad]\n",
    "    for item in params:\n",
    "        print(f'{item:>8}')\n",
    "    print(f'________\\n{sum(params):>8}')\n",
    "\n",
    "count_parameters(CNNmodel)"
   ],
   "metadata": {
    "colab": {
     "base_uri": "https://localhost:8080/"
    },
    "id": "Yz5E9M2hZcqq",
    "outputId": "57fc0ea2-a738-4084-b60d-5f8c6d9c5f64",
    "pycharm": {
     "name": "#%%\n"
    }
   },
   "execution_count": 7,
   "outputs": [
    {
     "name": "stdout",
     "output_type": "stream",
     "text": [
      "     162\n",
      "       6\n",
      "     864\n",
      "      16\n",
      " 5598720\n",
      "     120\n",
      "   10080\n",
      "      84\n",
      "     168\n",
      "       2\n",
      "________\n",
      " 5610222\n"
     ]
    }
   ]
  },
  {
   "cell_type": "code",
   "source": [
    "import time\n",
    "start_time = time.time()\n",
    "\n",
    "epochs = 3\n",
    "\n",
    "max_trn_batch = 800\n",
    "max_tst_batch = 300\n",
    "\n",
    "train_losses = []\n",
    "test_losses = []\n",
    "train_correct = []\n",
    "test_correct = []\n",
    "\n",
    "for i in range(epochs):\n",
    "    trn_corr = 0\n",
    "    tst_corr = 0\n",
    "    \n",
    "    # Run the training batches\n",
    "    for b, (X_train, y_train) in enumerate(train_loader):\n",
    "        \n",
    "        if b == max_trn_batch:\n",
    "            break\n",
    "        b+=1\n",
    "        \n",
    "        y_pred = CNNmodel(X_train)\n",
    "        loss = criterion(y_pred, y_train)\n",
    " \n",
    "        predicted = torch.max(y_pred.data, 1)[1]\n",
    "        batch_corr = (predicted == y_train).sum()\n",
    "        trn_corr += batch_corr\n",
    "        \n",
    "        optimizer.zero_grad()\n",
    "        loss.backward()\n",
    "        optimizer.step()\n",
    "\n",
    "        if b%200 == 0:\n",
    "            print(f'epoch: {i:2}  batch: {b:4} [{10*b:6}/8000]  loss: {loss.item():10.8f}  \\\n",
    "accuracy: {trn_corr.item()*100/(10*b):7.3f}%')\n",
    "\n",
    "    train_losses.append(loss)\n",
    "    train_correct.append(trn_corr)\n",
    "\n",
    "    with torch.no_grad():\n",
    "        for b, (X_test, y_test) in enumerate(test_loader):\n",
    "            if b == max_tst_batch:\n",
    "                break\n",
    "\n",
    "            y_val = CNNmodel(X_test)\n",
    "\n",
    "            predicted = torch.max(y_val.data, 1)[1] \n",
    "            tst_corr += (predicted == y_test).sum()\n",
    "\n",
    "    loss = criterion(y_val, y_test)\n",
    "    test_losses.append(loss)\n",
    "    test_correct.append(tst_corr)\n",
    "\n",
    "print(f'\\nDuration: {time.time() - start_time:.0f} seconds')"
   ],
   "metadata": {
    "id": "Z7LGsakWZ_LN",
    "pycharm": {
     "name": "#%%\n"
    }
   },
   "execution_count": 8,
   "outputs": [
    {
     "name": "stdout",
     "output_type": "stream",
     "text": [
      "epoch:  0  batch:  200 [  2000/8000]  loss: 0.65563291  accuracy:  55.300%\n",
      "epoch:  0  batch:  400 [  4000/8000]  loss: 0.56284124  accuracy:  58.450%\n",
      "epoch:  0  batch:  600 [  6000/8000]  loss: 0.67431378  accuracy:  59.900%\n",
      "epoch:  0  batch:  800 [  8000/8000]  loss: 0.63233745  accuracy:  61.075%\n",
      "epoch:  1  batch:  200 [  2000/8000]  loss: 0.62452066  accuracy:  67.550%\n",
      "epoch:  1  batch:  400 [  4000/8000]  loss: 0.51307046  accuracy:  69.100%\n",
      "epoch:  1  batch:  600 [  6000/8000]  loss: 0.32636839  accuracy:  69.500%\n",
      "epoch:  1  batch:  800 [  8000/8000]  loss: 0.36362883  accuracy:  69.537%\n",
      "epoch:  2  batch:  200 [  2000/8000]  loss: 0.53155285  accuracy:  71.000%\n",
      "epoch:  2  batch:  400 [  4000/8000]  loss: 0.37605992  accuracy:  72.550%\n",
      "epoch:  2  batch:  600 [  6000/8000]  loss: 0.59169805  accuracy:  72.650%\n",
      "epoch:  2  batch:  800 [  8000/8000]  loss: 0.67331201  accuracy:  72.662%\n",
      "\n",
      "Duration: 776 seconds\n"
     ]
    }
   ]
  },
  {
   "cell_type": "code",
   "source": [
    "plt.plot([t/80 for t in train_correct], label='training accuracy')\n",
    "plt.plot([t/30 for t in test_correct], label='validation accuracy')\n",
    "plt.title('Accuracy at the end of each epoch')\n",
    "plt.legend();"
   ],
   "metadata": {
    "id": "I2OyfnBDavWB",
    "pycharm": {
     "name": "#%%\n"
    }
   },
   "execution_count": 9,
   "outputs": [
    {
     "data": {
      "text/plain": "<Figure size 432x288 with 1 Axes>",
      "image/png": "[encoded data removed]"
     },
     "metadata": {
      "needs_background": "light"
     },
     "output_type": "display_data"
    }
   ]
  },
  {
   "cell_type": "code",
   "source": [
    "print(test_correct)\n",
    "print(f'Test accuracy: {test_correct[-1].item()*100/3000:.3f}%')"
   ],
   "metadata": {
    "id": "nupHdKSXaxZi",
    "pycharm": {
     "name": "#%%\n"
    }
   },
   "execution_count": 10,
   "outputs": [
    {
     "name": "stdout",
     "output_type": "stream",
     "text": [
      "[tensor(2017), tensor(2086), tensor(2186)]\n",
      "Test accuracy: 72.867%\n"
     ]
    }
   ]
  },
  {
   "cell_type": "code",
   "execution_count": null,
   "outputs": [],
   "source": [],
   "metadata": {
    "collapsed": false,
    "pycharm": {
     "name": "#%%\n"
    }
   }
  }
 ]
}